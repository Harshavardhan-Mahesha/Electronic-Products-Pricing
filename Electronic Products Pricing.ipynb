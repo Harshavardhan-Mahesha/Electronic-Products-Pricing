{
 "cells": [
  {
   "cell_type": "code",
   "execution_count": 1,
   "metadata": {},
   "outputs": [],
   "source": [
    "import pandas as pd\n",
    "from sklearn.preprocessing import OneHotEncoder\n",
    "\n",
    "ep_data  = pd.read_csv(\"https://raw.githubusercontent.com/dphi-official/Datasets/master/electronic_product/electronic_product/Training_set_label.csv\" )"
   ]
  },
  {
   "cell_type": "code",
   "execution_count": 2,
   "metadata": {},
   "outputs": [
    {
     "data": {
      "text/html": [
       "<div>\n",
       "<style scoped>\n",
       "    .dataframe tbody tr th:only-of-type {\n",
       "        vertical-align: middle;\n",
       "    }\n",
       "\n",
       "    .dataframe tbody tr th {\n",
       "        vertical-align: top;\n",
       "    }\n",
       "\n",
       "    .dataframe thead th {\n",
       "        text-align: right;\n",
       "    }\n",
       "</style>\n",
       "<table border=\"1\" class=\"dataframe\">\n",
       "  <thead>\n",
       "    <tr style=\"text-align: right;\">\n",
       "      <th></th>\n",
       "      <th>id</th>\n",
       "      <th>prices.availability</th>\n",
       "      <th>prices.condition</th>\n",
       "      <th>prices.currency</th>\n",
       "      <th>prices.dateSeen</th>\n",
       "      <th>prices.isSale</th>\n",
       "      <th>prices.merchant</th>\n",
       "      <th>prices.shipping</th>\n",
       "      <th>prices.sourceURLs</th>\n",
       "      <th>asins</th>\n",
       "      <th>...</th>\n",
       "      <th>imageURLs</th>\n",
       "      <th>keys</th>\n",
       "      <th>manufacturer</th>\n",
       "      <th>manufacturerNumber</th>\n",
       "      <th>name</th>\n",
       "      <th>primaryCategories</th>\n",
       "      <th>sourceURLs</th>\n",
       "      <th>upc</th>\n",
       "      <th>weight</th>\n",
       "      <th>price</th>\n",
       "    </tr>\n",
       "  </thead>\n",
       "  <tbody>\n",
       "    <tr>\n",
       "      <th>0</th>\n",
       "      <td>AVphrugr1cnluZ0-FOeH</td>\n",
       "      <td>Yes</td>\n",
       "      <td>New</td>\n",
       "      <td>USD</td>\n",
       "      <td>2017-05-10T20:00:00Z,2017-05-09T15:00:00Z</td>\n",
       "      <td>False</td>\n",
       "      <td>Bestbuy.com</td>\n",
       "      <td>NaN</td>\n",
       "      <td>http://www.bestbuy.com/site/products/7100293.p...</td>\n",
       "      <td>B00I9HD8PK</td>\n",
       "      <td>...</td>\n",
       "      <td>https://i5.walmartimages.com/asr/dd5f42c4-076c...</td>\n",
       "      <td>819127010485,ecoxgearecostonebluetoothspeaker/...</td>\n",
       "      <td>Ecoxgear</td>\n",
       "      <td>GDI-EGST701</td>\n",
       "      <td>EcoXGear Ecostone Bluetooth Speaker</td>\n",
       "      <td>Electronics</td>\n",
       "      <td>http://www.walmart.com/ip/EcoXGear-Ecostone-Bl...</td>\n",
       "      <td>8.19E+11</td>\n",
       "      <td>3 pounds</td>\n",
       "      <td>92.99</td>\n",
       "    </tr>\n",
       "    <tr>\n",
       "      <th>1</th>\n",
       "      <td>AVrI6FDbv8e3D1O-lm4R</td>\n",
       "      <td>Yes</td>\n",
       "      <td>New</td>\n",
       "      <td>USD</td>\n",
       "      <td>2017-10-10T02:00:00Z,2017-08-12T03:00:00Z,2017...</td>\n",
       "      <td>False</td>\n",
       "      <td>Bestbuy.com</td>\n",
       "      <td>NaN</td>\n",
       "      <td>https://www.bestbuy.com/site/lenovo-100s-14ibr...</td>\n",
       "      <td>B06ZY63J8H</td>\n",
       "      <td>...</td>\n",
       "      <td>https://i5.walmartimages.com/asr/fcc50cce-a3c1...</td>\n",
       "      <td>190793918948,lenovo100s14ibr14laptopintelceler...</td>\n",
       "      <td>NaN</td>\n",
       "      <td>100s-14ibr</td>\n",
       "      <td>Lenovo - 100S-14IBR 14 Laptop - Intel Celeron ...</td>\n",
       "      <td>Electronics</td>\n",
       "      <td>https://www.walmart.com/ip/Lenovo-100S-14IBR-1...</td>\n",
       "      <td>1.91E+11</td>\n",
       "      <td>4.3 pounds</td>\n",
       "      <td>229.99</td>\n",
       "    </tr>\n",
       "    <tr>\n",
       "      <th>2</th>\n",
       "      <td>AVpiLlubilAPnD_xBoTa</td>\n",
       "      <td>Yes</td>\n",
       "      <td>New</td>\n",
       "      <td>USD</td>\n",
       "      <td>2017-10-10T19:00:00Z,2017-09-12T14:00:00Z,2017...</td>\n",
       "      <td>False</td>\n",
       "      <td>Bestbuy.com</td>\n",
       "      <td>NaN</td>\n",
       "      <td>https://www.bestbuy.com/site/house-of-marley-s...</td>\n",
       "      <td>B00G3P9UMU</td>\n",
       "      <td>...</td>\n",
       "      <td>https://i5.walmartimages.com/asr/c124aa15-b9e3...</td>\n",
       "      <td>0846885007037,houseofmarleysmilejamaicainearea...</td>\n",
       "      <td>House Of Marley</td>\n",
       "      <td>EM-JE041-MI</td>\n",
       "      <td>House of Marley Smile Jamaica In-Ear Earbuds</td>\n",
       "      <td>Electronics</td>\n",
       "      <td>https://www.walmart.com/ip/House-of-Marley-Smi...</td>\n",
       "      <td>8.47E+11</td>\n",
       "      <td>0.6 ounces</td>\n",
       "      <td>16.99</td>\n",
       "    </tr>\n",
       "    <tr>\n",
       "      <th>3</th>\n",
       "      <td>AVpgQP5vLJeJML43LQbd</td>\n",
       "      <td>Yes</td>\n",
       "      <td>New</td>\n",
       "      <td>USD</td>\n",
       "      <td>2017-09-08T05:00:00Z,2017-09-18T13:00:00Z,2017...</td>\n",
       "      <td>False</td>\n",
       "      <td>Bestbuy.com</td>\n",
       "      <td>NaN</td>\n",
       "      <td>https://www.bestbuy.com/site/products/6311012....</td>\n",
       "      <td>B00TTWZFFA</td>\n",
       "      <td>...</td>\n",
       "      <td>https://i5.walmartimages.com/asr/1be435f7-5f3a...</td>\n",
       "      <td>sonyultraportablebluetoothspeaker/sosrsx11bk,s...</td>\n",
       "      <td>Sony</td>\n",
       "      <td>SRSX11/BLK</td>\n",
       "      <td>Sony Ultra-Portable Bluetooth Speaker</td>\n",
       "      <td>Electronics</td>\n",
       "      <td>https://www.walmart.com/ip/Sony-Ultra-Portable...</td>\n",
       "      <td>27242886599</td>\n",
       "      <td>1 pounds</td>\n",
       "      <td>69.99</td>\n",
       "    </tr>\n",
       "    <tr>\n",
       "      <th>4</th>\n",
       "      <td>AV1YDsmoGV-KLJ3adcbe</td>\n",
       "      <td>More on the Way</td>\n",
       "      <td>New</td>\n",
       "      <td>USD</td>\n",
       "      <td>2017-12-05T13:00:00Z</td>\n",
       "      <td>True</td>\n",
       "      <td>bhphotovideo.com</td>\n",
       "      <td>Free Expedited Shipping for most orders over $49</td>\n",
       "      <td>https://www.bhphotovideo.com/c/product/1105014...</td>\n",
       "      <td>B00MHPAF38</td>\n",
       "      <td>...</td>\n",
       "      <td>http://i.ebayimg.com/thumbs/images/g/TBUAAOSwd...</td>\n",
       "      <td>sonyalphaa5100digitalcamerakitwith1650mmlenswh...</td>\n",
       "      <td>NaN</td>\n",
       "      <td>ILCE5100L/W</td>\n",
       "      <td>Alpha a5100 Mirrorless Digital Camera with 16-...</td>\n",
       "      <td>Electronics</td>\n",
       "      <td>https://reviews.bestbuy.com/3545/8429343/revie...</td>\n",
       "      <td>27242883246</td>\n",
       "      <td>9.98 oz 4.09 oz</td>\n",
       "      <td>846.00</td>\n",
       "    </tr>\n",
       "  </tbody>\n",
       "</table>\n",
       "<p>5 rows × 25 columns</p>\n",
       "</div>"
      ],
      "text/plain": [
       "                     id prices.availability prices.condition prices.currency  \\\n",
       "0  AVphrugr1cnluZ0-FOeH                 Yes              New             USD   \n",
       "1  AVrI6FDbv8e3D1O-lm4R                 Yes              New             USD   \n",
       "2  AVpiLlubilAPnD_xBoTa                 Yes              New             USD   \n",
       "3  AVpgQP5vLJeJML43LQbd                 Yes              New             USD   \n",
       "4  AV1YDsmoGV-KLJ3adcbe     More on the Way              New             USD   \n",
       "\n",
       "                                     prices.dateSeen  prices.isSale  \\\n",
       "0          2017-05-10T20:00:00Z,2017-05-09T15:00:00Z          False   \n",
       "1  2017-10-10T02:00:00Z,2017-08-12T03:00:00Z,2017...          False   \n",
       "2  2017-10-10T19:00:00Z,2017-09-12T14:00:00Z,2017...          False   \n",
       "3  2017-09-08T05:00:00Z,2017-09-18T13:00:00Z,2017...          False   \n",
       "4                               2017-12-05T13:00:00Z           True   \n",
       "\n",
       "    prices.merchant                                   prices.shipping  \\\n",
       "0       Bestbuy.com                                               NaN   \n",
       "1       Bestbuy.com                                               NaN   \n",
       "2       Bestbuy.com                                               NaN   \n",
       "3       Bestbuy.com                                               NaN   \n",
       "4  bhphotovideo.com  Free Expedited Shipping for most orders over $49   \n",
       "\n",
       "                                   prices.sourceURLs       asins  ...  \\\n",
       "0  http://www.bestbuy.com/site/products/7100293.p...  B00I9HD8PK  ...   \n",
       "1  https://www.bestbuy.com/site/lenovo-100s-14ibr...  B06ZY63J8H  ...   \n",
       "2  https://www.bestbuy.com/site/house-of-marley-s...  B00G3P9UMU  ...   \n",
       "3  https://www.bestbuy.com/site/products/6311012....  B00TTWZFFA  ...   \n",
       "4  https://www.bhphotovideo.com/c/product/1105014...  B00MHPAF38  ...   \n",
       "\n",
       "                                           imageURLs  \\\n",
       "0  https://i5.walmartimages.com/asr/dd5f42c4-076c...   \n",
       "1  https://i5.walmartimages.com/asr/fcc50cce-a3c1...   \n",
       "2  https://i5.walmartimages.com/asr/c124aa15-b9e3...   \n",
       "3  https://i5.walmartimages.com/asr/1be435f7-5f3a...   \n",
       "4  http://i.ebayimg.com/thumbs/images/g/TBUAAOSwd...   \n",
       "\n",
       "                                                keys     manufacturer  \\\n",
       "0  819127010485,ecoxgearecostonebluetoothspeaker/...         Ecoxgear   \n",
       "1  190793918948,lenovo100s14ibr14laptopintelceler...              NaN   \n",
       "2  0846885007037,houseofmarleysmilejamaicainearea...  House Of Marley   \n",
       "3  sonyultraportablebluetoothspeaker/sosrsx11bk,s...             Sony   \n",
       "4  sonyalphaa5100digitalcamerakitwith1650mmlenswh...              NaN   \n",
       "\n",
       "  manufacturerNumber                                               name  \\\n",
       "0        GDI-EGST701                EcoXGear Ecostone Bluetooth Speaker   \n",
       "1         100s-14ibr  Lenovo - 100S-14IBR 14 Laptop - Intel Celeron ...   \n",
       "2        EM-JE041-MI       House of Marley Smile Jamaica In-Ear Earbuds   \n",
       "3         SRSX11/BLK              Sony Ultra-Portable Bluetooth Speaker   \n",
       "4        ILCE5100L/W  Alpha a5100 Mirrorless Digital Camera with 16-...   \n",
       "\n",
       "  primaryCategories                                         sourceURLs  \\\n",
       "0       Electronics  http://www.walmart.com/ip/EcoXGear-Ecostone-Bl...   \n",
       "1       Electronics  https://www.walmart.com/ip/Lenovo-100S-14IBR-1...   \n",
       "2       Electronics  https://www.walmart.com/ip/House-of-Marley-Smi...   \n",
       "3       Electronics  https://www.walmart.com/ip/Sony-Ultra-Portable...   \n",
       "4       Electronics  https://reviews.bestbuy.com/3545/8429343/revie...   \n",
       "\n",
       "           upc           weight   price  \n",
       "0     8.19E+11         3 pounds   92.99  \n",
       "1     1.91E+11       4.3 pounds  229.99  \n",
       "2     8.47E+11       0.6 ounces   16.99  \n",
       "3  27242886599         1 pounds   69.99  \n",
       "4  27242883246  9.98 oz 4.09 oz  846.00  \n",
       "\n",
       "[5 rows x 25 columns]"
      ]
     },
     "execution_count": 2,
     "metadata": {},
     "output_type": "execute_result"
    }
   ],
   "source": [
    "ep_data.head()"
   ]
  },
  {
   "cell_type": "code",
   "execution_count": 3,
   "metadata": {},
   "outputs": [
    {
     "name": "stdout",
     "output_type": "stream",
     "text": [
      "<class 'pandas.core.frame.DataFrame'>\n",
      "RangeIndex: 5436 entries, 0 to 5435\n",
      "Data columns (total 25 columns):\n",
      " #   Column               Non-Null Count  Dtype  \n",
      "---  ------               --------------  -----  \n",
      " 0   id                   5436 non-null   object \n",
      " 1   prices.availability  5436 non-null   object \n",
      " 2   prices.condition     5436 non-null   object \n",
      " 3   prices.currency      5436 non-null   object \n",
      " 4   prices.dateSeen      5436 non-null   object \n",
      " 5   prices.isSale        5436 non-null   bool   \n",
      " 6   prices.merchant      5436 non-null   object \n",
      " 7   prices.shipping      3199 non-null   object \n",
      " 8   prices.sourceURLs    5436 non-null   object \n",
      " 9   asins                5436 non-null   object \n",
      " 10  brand                5436 non-null   object \n",
      " 11  categories           5436 non-null   object \n",
      " 12  dateAdded            5436 non-null   object \n",
      " 13  dateUpdated          5436 non-null   object \n",
      " 14  ean                  1175 non-null   object \n",
      " 15  imageURLs            5436 non-null   object \n",
      " 16  keys                 5436 non-null   object \n",
      " 17  manufacturer         2477 non-null   object \n",
      " 18  manufacturerNumber   5436 non-null   object \n",
      " 19  name                 5436 non-null   object \n",
      " 20  primaryCategories    5436 non-null   object \n",
      " 21  sourceURLs           5436 non-null   object \n",
      " 22  upc                  5436 non-null   object \n",
      " 23  weight               5436 non-null   object \n",
      " 24  price                5436 non-null   float64\n",
      "dtypes: bool(1), float64(1), object(23)\n",
      "memory usage: 1.0+ MB\n"
     ]
    }
   ],
   "source": [
    "ep_data.info()"
   ]
  },
  {
   "cell_type": "code",
   "execution_count": 4,
   "metadata": {},
   "outputs": [
    {
     "data": {
      "text/plain": [
       "id                        0\n",
       "prices.availability       0\n",
       "prices.condition          0\n",
       "prices.currency           0\n",
       "prices.dateSeen           0\n",
       "prices.isSale             0\n",
       "prices.merchant           0\n",
       "prices.shipping        2237\n",
       "prices.sourceURLs         0\n",
       "asins                     0\n",
       "brand                     0\n",
       "categories                0\n",
       "dateAdded                 0\n",
       "dateUpdated               0\n",
       "ean                    4261\n",
       "imageURLs                 0\n",
       "keys                      0\n",
       "manufacturer           2959\n",
       "manufacturerNumber        0\n",
       "name                      0\n",
       "primaryCategories         0\n",
       "sourceURLs                0\n",
       "upc                       0\n",
       "weight                    0\n",
       "price                     0\n",
       "dtype: int64"
      ]
     },
     "execution_count": 4,
     "metadata": {},
     "output_type": "execute_result"
    }
   ],
   "source": [
    "ep_data.isna().sum()"
   ]
  },
  {
   "cell_type": "markdown",
   "metadata": {},
   "source": [
    "### Data Cleaning & Data Preparation"
   ]
  },
  {
   "cell_type": "code",
   "execution_count": 5,
   "metadata": {},
   "outputs": [],
   "source": [
    "col_to_drop = ['id', 'prices.sourceURLs', 'categories', 'dateAdded', 'dateUpdated', 'ean',\n",
    "              'imageURLs', 'keys', 'manufacturerNumber', 'name','sourceURLs','upc', 'prices.dateSeen']\n",
    "\n",
    "ep_data.drop(col_to_drop, axis = 1, inplace=True)"
   ]
  },
  {
   "cell_type": "code",
   "execution_count": 6,
   "metadata": {},
   "outputs": [],
   "source": [
    "ep_data = ep_data[ep_data.weight != 'Electronics']"
   ]
  },
  {
   "cell_type": "code",
   "execution_count": 7,
   "metadata": {},
   "outputs": [],
   "source": [
    "def f(r):\n",
    "    if len(r) <20:\n",
    "        return float(r.split()[0])\n",
    "    else:\n",
    "        return 'z'\n",
    "ep_data.weight = ep_data.weight.apply(f)"
   ]
  },
  {
   "cell_type": "code",
   "execution_count": 8,
   "metadata": {},
   "outputs": [],
   "source": [
    "ep_data = ep_data[ep_data.weight != 'z']"
   ]
  },
  {
   "cell_type": "code",
   "execution_count": 9,
   "metadata": {},
   "outputs": [],
   "source": [
    "ep_data.weight = ep_data.weight.astype('float')"
   ]
  },
  {
   "cell_type": "code",
   "execution_count": 10,
   "metadata": {},
   "outputs": [],
   "source": [
    "# Fill missing data\n",
    "ep_data['prices.shipping'].fillna(ep_data['prices.shipping'].mode().iloc[0], inplace = True)\n",
    "ep_data['manufacturer'].fillna(ep_data['manufacturer'].mode().iloc[0], inplace = True)\n",
    "ep_data.weight.fillna(ep_data.weight.mean(), inplace = True)"
   ]
  },
  {
   "cell_type": "code",
   "execution_count": 11,
   "metadata": {},
   "outputs": [
    {
     "name": "stdout",
     "output_type": "stream",
     "text": [
      "<class 'pandas.core.frame.DataFrame'>\n",
      "Int64Index: 5043 entries, 0 to 5435\n",
      "Data columns (total 12 columns):\n",
      " #   Column               Non-Null Count  Dtype  \n",
      "---  ------               --------------  -----  \n",
      " 0   prices.availability  5043 non-null   object \n",
      " 1   prices.condition     5043 non-null   object \n",
      " 2   prices.currency      5043 non-null   object \n",
      " 3   prices.isSale        5043 non-null   bool   \n",
      " 4   prices.merchant      5043 non-null   object \n",
      " 5   prices.shipping      5043 non-null   object \n",
      " 6   asins                5043 non-null   object \n",
      " 7   brand                5043 non-null   object \n",
      " 8   manufacturer         5043 non-null   object \n",
      " 9   primaryCategories    5043 non-null   object \n",
      " 10  weight               5043 non-null   float64\n",
      " 11  price                5043 non-null   float64\n",
      "dtypes: bool(1), float64(2), object(9)\n",
      "memory usage: 477.7+ KB\n"
     ]
    }
   ],
   "source": [
    "\n",
    "\n",
    "ep_data.info()\n",
    "\n"
   ]
  },
  {
   "cell_type": "code",
   "execution_count": 12,
   "metadata": {},
   "outputs": [],
   "source": [
    "\n",
    "\n",
    "col = ['prices.availability','prices.condition','prices.currency', 'prices.isSale', 'prices.merchant', 'prices.shipping', 'asins', 'brand', 'manufacturer', 'primaryCategories']\n",
    "\n",
    "data=ep_data"
   ]
  },
  {
   "cell_type": "code",
   "execution_count": 13,
   "metadata": {},
   "outputs": [
    {
     "name": "stderr",
     "output_type": "stream",
     "text": [
      "C:\\Users\\Harsha\\AppData\\Local\\Continuum\\anaconda3\\envs\\tensorflow_env\\lib\\site-packages\\sklearn\\utils\\deprecation.py:87: FutureWarning: Function get_feature_names is deprecated; get_feature_names is deprecated in 1.0 and will be removed in 1.2. Please use get_feature_names_out instead.\n",
      "  warnings.warn(msg, category=FutureWarning)\n"
     ]
    }
   ],
   "source": [
    "\n",
    "from sklearn.preprocessing import OneHotEncoder\n",
    "ohe = OneHotEncoder(handle_unknown='ignore')\n",
    "ohe.fit(ep_data[col])\n",
    "encoded = ohe.transform(ep_data[col]).toarray()\n",
    "features = ohe.get_feature_names(col)\n",
    "ep_data_ohe=pd.DataFrame(encoded,columns=features).astype(int)"
   ]
  },
  {
   "cell_type": "code",
   "execution_count": 14,
   "metadata": {},
   "outputs": [],
   "source": [
    "data = pd.concat([ep_data_ohe, ep_data], axis=1)\n"
   ]
  },
  {
   "cell_type": "code",
   "execution_count": 15,
   "metadata": {},
   "outputs": [
    {
     "data": {
      "text/html": [
       "<div>\n",
       "<style scoped>\n",
       "    .dataframe tbody tr th:only-of-type {\n",
       "        vertical-align: middle;\n",
       "    }\n",
       "\n",
       "    .dataframe tbody tr th {\n",
       "        vertical-align: top;\n",
       "    }\n",
       "\n",
       "    .dataframe thead th {\n",
       "        text-align: right;\n",
       "    }\n",
       "</style>\n",
       "<table border=\"1\" class=\"dataframe\">\n",
       "  <thead>\n",
       "    <tr style=\"text-align: right;\">\n",
       "      <th></th>\n",
       "      <th>prices.availability_7 available</th>\n",
       "      <th>prices.availability_FALSE</th>\n",
       "      <th>prices.availability_In Stock</th>\n",
       "      <th>prices.availability_More on the Way</th>\n",
       "      <th>prices.availability_No</th>\n",
       "      <th>prices.availability_Out Of Stock</th>\n",
       "      <th>prices.availability_Retired</th>\n",
       "      <th>prices.availability_Special Order</th>\n",
       "      <th>prices.availability_TRUE</th>\n",
       "      <th>prices.availability_Yes</th>\n",
       "      <th>...</th>\n",
       "      <th>prices.currency</th>\n",
       "      <th>prices.isSale</th>\n",
       "      <th>prices.merchant</th>\n",
       "      <th>prices.shipping</th>\n",
       "      <th>asins</th>\n",
       "      <th>brand</th>\n",
       "      <th>manufacturer</th>\n",
       "      <th>primaryCategories</th>\n",
       "      <th>weight</th>\n",
       "      <th>price</th>\n",
       "    </tr>\n",
       "  </thead>\n",
       "  <tbody>\n",
       "    <tr>\n",
       "      <th>0</th>\n",
       "      <td>0.0</td>\n",
       "      <td>0.0</td>\n",
       "      <td>0.0</td>\n",
       "      <td>0.0</td>\n",
       "      <td>0.0</td>\n",
       "      <td>0.0</td>\n",
       "      <td>0.0</td>\n",
       "      <td>0.0</td>\n",
       "      <td>0.0</td>\n",
       "      <td>1.0</td>\n",
       "      <td>...</td>\n",
       "      <td>USD</td>\n",
       "      <td>False</td>\n",
       "      <td>Bestbuy.com</td>\n",
       "      <td>Free Expedited Shipping for most orders over $49</td>\n",
       "      <td>B00I9HD8PK</td>\n",
       "      <td>Grace Digital</td>\n",
       "      <td>Ecoxgear</td>\n",
       "      <td>Electronics</td>\n",
       "      <td>3.00</td>\n",
       "      <td>92.99</td>\n",
       "    </tr>\n",
       "    <tr>\n",
       "      <th>1</th>\n",
       "      <td>0.0</td>\n",
       "      <td>0.0</td>\n",
       "      <td>0.0</td>\n",
       "      <td>0.0</td>\n",
       "      <td>0.0</td>\n",
       "      <td>0.0</td>\n",
       "      <td>0.0</td>\n",
       "      <td>0.0</td>\n",
       "      <td>0.0</td>\n",
       "      <td>1.0</td>\n",
       "      <td>...</td>\n",
       "      <td>USD</td>\n",
       "      <td>False</td>\n",
       "      <td>Bestbuy.com</td>\n",
       "      <td>Free Expedited Shipping for most orders over $49</td>\n",
       "      <td>B06ZY63J8H</td>\n",
       "      <td>Lenovo</td>\n",
       "      <td>Sony</td>\n",
       "      <td>Electronics</td>\n",
       "      <td>4.30</td>\n",
       "      <td>229.99</td>\n",
       "    </tr>\n",
       "    <tr>\n",
       "      <th>2</th>\n",
       "      <td>0.0</td>\n",
       "      <td>0.0</td>\n",
       "      <td>0.0</td>\n",
       "      <td>0.0</td>\n",
       "      <td>0.0</td>\n",
       "      <td>0.0</td>\n",
       "      <td>0.0</td>\n",
       "      <td>0.0</td>\n",
       "      <td>0.0</td>\n",
       "      <td>1.0</td>\n",
       "      <td>...</td>\n",
       "      <td>USD</td>\n",
       "      <td>False</td>\n",
       "      <td>Bestbuy.com</td>\n",
       "      <td>Free Expedited Shipping for most orders over $49</td>\n",
       "      <td>B00G3P9UMU</td>\n",
       "      <td>House of Marley</td>\n",
       "      <td>House Of Marley</td>\n",
       "      <td>Electronics</td>\n",
       "      <td>0.60</td>\n",
       "      <td>16.99</td>\n",
       "    </tr>\n",
       "    <tr>\n",
       "      <th>3</th>\n",
       "      <td>0.0</td>\n",
       "      <td>0.0</td>\n",
       "      <td>0.0</td>\n",
       "      <td>0.0</td>\n",
       "      <td>0.0</td>\n",
       "      <td>0.0</td>\n",
       "      <td>0.0</td>\n",
       "      <td>0.0</td>\n",
       "      <td>0.0</td>\n",
       "      <td>1.0</td>\n",
       "      <td>...</td>\n",
       "      <td>USD</td>\n",
       "      <td>False</td>\n",
       "      <td>Bestbuy.com</td>\n",
       "      <td>Free Expedited Shipping for most orders over $49</td>\n",
       "      <td>B00TTWZFFA</td>\n",
       "      <td>Sony</td>\n",
       "      <td>Sony</td>\n",
       "      <td>Electronics</td>\n",
       "      <td>1.00</td>\n",
       "      <td>69.99</td>\n",
       "    </tr>\n",
       "    <tr>\n",
       "      <th>4</th>\n",
       "      <td>0.0</td>\n",
       "      <td>0.0</td>\n",
       "      <td>0.0</td>\n",
       "      <td>1.0</td>\n",
       "      <td>0.0</td>\n",
       "      <td>0.0</td>\n",
       "      <td>0.0</td>\n",
       "      <td>0.0</td>\n",
       "      <td>0.0</td>\n",
       "      <td>0.0</td>\n",
       "      <td>...</td>\n",
       "      <td>USD</td>\n",
       "      <td>True</td>\n",
       "      <td>bhphotovideo.com</td>\n",
       "      <td>Free Expedited Shipping for most orders over $49</td>\n",
       "      <td>B00MHPAF38</td>\n",
       "      <td>Sony</td>\n",
       "      <td>Sony</td>\n",
       "      <td>Electronics</td>\n",
       "      <td>9.98</td>\n",
       "      <td>846.00</td>\n",
       "    </tr>\n",
       "  </tbody>\n",
       "</table>\n",
       "<p>5 rows × 1855 columns</p>\n",
       "</div>"
      ],
      "text/plain": [
       "   prices.availability_7 available  prices.availability_FALSE  \\\n",
       "0                              0.0                        0.0   \n",
       "1                              0.0                        0.0   \n",
       "2                              0.0                        0.0   \n",
       "3                              0.0                        0.0   \n",
       "4                              0.0                        0.0   \n",
       "\n",
       "   prices.availability_In Stock  prices.availability_More on the Way  \\\n",
       "0                           0.0                                  0.0   \n",
       "1                           0.0                                  0.0   \n",
       "2                           0.0                                  0.0   \n",
       "3                           0.0                                  0.0   \n",
       "4                           0.0                                  1.0   \n",
       "\n",
       "   prices.availability_No  prices.availability_Out Of Stock  \\\n",
       "0                     0.0                               0.0   \n",
       "1                     0.0                               0.0   \n",
       "2                     0.0                               0.0   \n",
       "3                     0.0                               0.0   \n",
       "4                     0.0                               0.0   \n",
       "\n",
       "   prices.availability_Retired  prices.availability_Special Order  \\\n",
       "0                          0.0                                0.0   \n",
       "1                          0.0                                0.0   \n",
       "2                          0.0                                0.0   \n",
       "3                          0.0                                0.0   \n",
       "4                          0.0                                0.0   \n",
       "\n",
       "   prices.availability_TRUE  prices.availability_Yes  ...  prices.currency  \\\n",
       "0                       0.0                      1.0  ...              USD   \n",
       "1                       0.0                      1.0  ...              USD   \n",
       "2                       0.0                      1.0  ...              USD   \n",
       "3                       0.0                      1.0  ...              USD   \n",
       "4                       0.0                      0.0  ...              USD   \n",
       "\n",
       "   prices.isSale   prices.merchant  \\\n",
       "0          False       Bestbuy.com   \n",
       "1          False       Bestbuy.com   \n",
       "2          False       Bestbuy.com   \n",
       "3          False       Bestbuy.com   \n",
       "4           True  bhphotovideo.com   \n",
       "\n",
       "                                    prices.shipping       asins  \\\n",
       "0  Free Expedited Shipping for most orders over $49  B00I9HD8PK   \n",
       "1  Free Expedited Shipping for most orders over $49  B06ZY63J8H   \n",
       "2  Free Expedited Shipping for most orders over $49  B00G3P9UMU   \n",
       "3  Free Expedited Shipping for most orders over $49  B00TTWZFFA   \n",
       "4  Free Expedited Shipping for most orders over $49  B00MHPAF38   \n",
       "\n",
       "             brand     manufacturer  primaryCategories  weight   price  \n",
       "0    Grace Digital         Ecoxgear        Electronics    3.00   92.99  \n",
       "1           Lenovo             Sony        Electronics    4.30  229.99  \n",
       "2  House of Marley  House Of Marley        Electronics    0.60   16.99  \n",
       "3             Sony             Sony        Electronics    1.00   69.99  \n",
       "4             Sony             Sony        Electronics    9.98  846.00  \n",
       "\n",
       "[5 rows x 1855 columns]"
      ]
     },
     "execution_count": 15,
     "metadata": {},
     "output_type": "execute_result"
    }
   ],
   "source": [
    "data.head()"
   ]
  },
  {
   "cell_type": "code",
   "execution_count": 16,
   "metadata": {},
   "outputs": [],
   "source": [
    "data.drop(col, axis = 1, inplace=True)"
   ]
  },
  {
   "cell_type": "code",
   "execution_count": 17,
   "metadata": {},
   "outputs": [],
   "source": [
    "import numpy as np"
   ]
  },
  {
   "cell_type": "code",
   "execution_count": 18,
   "metadata": {},
   "outputs": [],
   "source": [
    "data.replace([np.inf, -np.inf], np.nan, inplace=True)\n",
    "data=data.dropna()"
   ]
  },
  {
   "cell_type": "code",
   "execution_count": 19,
   "metadata": {},
   "outputs": [],
   "source": [
    "ep_data=data"
   ]
  },
  {
   "cell_type": "code",
   "execution_count": 20,
   "metadata": {},
   "outputs": [
    {
     "data": {
      "text/plain": [
       "prices.availability_7 available            0\n",
       "prices.availability_FALSE                  0\n",
       "prices.availability_In Stock               0\n",
       "prices.availability_More on the Way        0\n",
       "prices.availability_No                     0\n",
       "                                          ..\n",
       "primaryCategories_ Intel Celeron           0\n",
       "primaryCategories_Electronics              0\n",
       "primaryCategories_Electronics,Furniture    0\n",
       "weight                                     0\n",
       "price                                      0\n",
       "Length: 1845, dtype: int64"
      ]
     },
     "execution_count": 20,
     "metadata": {},
     "output_type": "execute_result"
    }
   ],
   "source": [
    "data.isna().sum()"
   ]
  },
  {
   "cell_type": "markdown",
   "metadata": {},
   "source": [
    "### Separating Input Features and Output Features"
   ]
  },
  {
   "cell_type": "code",
   "execution_count": 21,
   "metadata": {},
   "outputs": [],
   "source": [
    "\n",
    "\n",
    "# Input/independent variables\n",
    "X = ep_data.drop('price', axis = 1)   # her we are droping the 'price' feature as this is the target and 'X' is input features, the changes are not \n",
    "                                              # made inplace as we have not used 'inplace = True'\n",
    "\n",
    "y = ep_data.price             # Output/Dependent variable\n",
    "\n"
   ]
  },
  {
   "cell_type": "markdown",
   "metadata": {},
   "source": [
    "### Splitting the data into Train and Validation Set"
   ]
  },
  {
   "cell_type": "code",
   "execution_count": 22,
   "metadata": {},
   "outputs": [],
   "source": [
    "\n",
    "\n",
    "# import train_test_split\n",
    "from sklearn.model_selection import train_test_split\n",
    "\n",
    "X_train, X_val, y_train, y_val = train_test_split(X,y,test_size=0.3, random_state = 42)"
   ]
  },
  {
   "cell_type": "code",
   "execution_count": 23,
   "metadata": {},
   "outputs": [
    {
     "data": {
      "text/plain": [
       "prices.availability_7 available            0\n",
       "prices.availability_FALSE                  0\n",
       "prices.availability_In Stock               0\n",
       "prices.availability_More on the Way        0\n",
       "prices.availability_No                     0\n",
       "                                          ..\n",
       "manufacturer_x6d inc                       0\n",
       "primaryCategories_ Intel Celeron           0\n",
       "primaryCategories_Electronics              0\n",
       "primaryCategories_Electronics,Furniture    0\n",
       "weight                                     0\n",
       "Length: 1844, dtype: int64"
      ]
     },
     "execution_count": 23,
     "metadata": {},
     "output_type": "execute_result"
    }
   ],
   "source": [
    "X_train.isna().sum()"
   ]
  },
  {
   "cell_type": "markdown",
   "metadata": {},
   "source": [
    "### Building Model"
   ]
  },
  {
   "cell_type": "code",
   "execution_count": 24,
   "metadata": {},
   "outputs": [],
   "source": [
    "\n",
    "\n",
    "#import Linear regression from sklearn\n",
    "from sklearn.linear_model import LinearRegression\n",
    "\n"
   ]
  },
  {
   "cell_type": "code",
   "execution_count": 25,
   "metadata": {},
   "outputs": [],
   "source": [
    "\n",
    "\n",
    "lr = LinearRegression()\n",
    "\n"
   ]
  },
  {
   "cell_type": "markdown",
   "metadata": {},
   "source": [
    "### Train the model"
   ]
  },
  {
   "cell_type": "code",
   "execution_count": 26,
   "metadata": {},
   "outputs": [
    {
     "data": {
      "text/plain": [
       "LinearRegression()"
      ]
     },
     "execution_count": 26,
     "metadata": {},
     "output_type": "execute_result"
    }
   ],
   "source": [
    "\n",
    "\n",
    "lr.fit(X_train, y_train)\n",
    "\n"
   ]
  },
  {
   "cell_type": "markdown",
   "metadata": {},
   "source": [
    "### Validate The Model"
   ]
  },
  {
   "cell_type": "code",
   "execution_count": 27,
   "metadata": {},
   "outputs": [],
   "source": [
    "\n",
    "\n",
    "pred = lr.predict(X_val)\n",
    "\n"
   ]
  },
  {
   "cell_type": "markdown",
   "metadata": {},
   "source": [
    "### Model Evaluation"
   ]
  },
  {
   "cell_type": "code",
   "execution_count": 28,
   "metadata": {},
   "outputs": [],
   "source": [
    "# import mean squared error from sklearn.metric\n",
    "from sklearn.metrics import mean_squared_error,r2_score\n",
    "import numpy as np"
   ]
  },
  {
   "cell_type": "code",
   "execution_count": 29,
   "metadata": {},
   "outputs": [
    {
     "name": "stdout",
     "output_type": "stream",
     "text": [
      "Root Mean Squared Error is:  97030922083.33998\n"
     ]
    }
   ],
   "source": [
    "\n",
    "\n",
    "print('Root Mean Squared Error is: ', np.sqrt(mean_squared_error(y_val, pred))) \n",
    "\n",
    "# y_val is the original target value of the validation set (X_val)\n",
    "# pred is the predicted target value of the validation set\n",
    "\n"
   ]
  },
  {
   "cell_type": "code",
   "execution_count": 30,
   "metadata": {},
   "outputs": [
    {
     "data": {
      "text/plain": [
       "-1.5264465908100536e+16"
      ]
     },
     "execution_count": 30,
     "metadata": {},
     "output_type": "execute_result"
    }
   ],
   "source": [
    "r2_score(y_val,pred)"
   ]
  },
  {
   "cell_type": "markdown",
   "metadata": {},
   "source": [
    "### Predict The Output For Testing Dataset"
   ]
  },
  {
   "cell_type": "code",
   "execution_count": 31,
   "metadata": {},
   "outputs": [],
   "source": [
    "\n",
    "\n",
    "test_data = pd.read_csv('https://raw.githubusercontent.com/dphi-official/Datasets/master/electronic_product/electronic_product/Testing_set_label.csv')\n",
    "\n"
   ]
  },
  {
   "cell_type": "code",
   "execution_count": 32,
   "metadata": {},
   "outputs": [
    {
     "name": "stdout",
     "output_type": "stream",
     "text": [
      "<class 'pandas.core.frame.DataFrame'>\n",
      "RangeIndex: 1666 entries, 0 to 1665\n",
      "Data columns (total 24 columns):\n",
      " #   Column               Non-Null Count  Dtype \n",
      "---  ------               --------------  ----- \n",
      " 0   id                   1666 non-null   object\n",
      " 1   prices.availability  1666 non-null   object\n",
      " 2   prices.condition     1666 non-null   object\n",
      " 3   prices.currency      1666 non-null   object\n",
      " 4   prices.dateSeen      1666 non-null   object\n",
      " 5   prices.isSale        1666 non-null   bool  \n",
      " 6   prices.merchant      1666 non-null   object\n",
      " 7   prices.shipping      993 non-null    object\n",
      " 8   prices.sourceURLs    1666 non-null   object\n",
      " 9   asins                1666 non-null   object\n",
      " 10  brand                1666 non-null   object\n",
      " 11  categories           1666 non-null   object\n",
      " 12  dateAdded            1666 non-null   object\n",
      " 13  dateUpdated          1666 non-null   object\n",
      " 14  ean                  339 non-null    object\n",
      " 15  imageURLs            1666 non-null   object\n",
      " 16  keys                 1666 non-null   object\n",
      " 17  manufacturer         696 non-null    object\n",
      " 18  manufacturerNumber   1666 non-null   object\n",
      " 19  name                 1666 non-null   object\n",
      " 20  primaryCategories    1666 non-null   object\n",
      " 21  sourceURLs           1666 non-null   object\n",
      " 22  upc                  1666 non-null   object\n",
      " 23  weight               1666 non-null   object\n",
      "dtypes: bool(1), object(23)\n",
      "memory usage: 301.1+ KB\n"
     ]
    }
   ],
   "source": [
    "\n",
    "\n",
    "test_data.info()\n",
    "\n"
   ]
  },
  {
   "cell_type": "code",
   "execution_count": 33,
   "metadata": {},
   "outputs": [],
   "source": [
    "col_to_drop = ['id', 'prices.sourceURLs', 'categories', 'dateAdded', 'dateUpdated', 'ean',\n",
    "              'imageURLs', 'keys', 'manufacturerNumber', 'name','sourceURLs','upc', 'prices.dateSeen']\n",
    "\n",
    "test_data.drop(col_to_drop, axis = 1, inplace=True)"
   ]
  },
  {
   "cell_type": "code",
   "execution_count": 34,
   "metadata": {},
   "outputs": [],
   "source": [
    "def f(r):\n",
    "    r = str(r)\n",
    "    if len(r) <20 and r != 'Electronics':\n",
    "        return float(r.split()[0])\n",
    "    else:\n",
    "        return 0\n",
    "test_data.weight = test_data.weight.apply(f)"
   ]
  },
  {
   "cell_type": "code",
   "execution_count": 35,
   "metadata": {},
   "outputs": [],
   "source": [
    "test_data.weight = test_data.weight.astype('float')"
   ]
  },
  {
   "cell_type": "code",
   "execution_count": 36,
   "metadata": {},
   "outputs": [],
   "source": [
    "# Fill missing data\n",
    "test_data['prices.shipping'].fillna(test_data['prices.shipping'].mode().iloc[0], inplace = True)\n",
    "test_data['manufacturer'].fillna(test_data['manufacturer'].mode().iloc[0], inplace = True)\n",
    "test_data.weight.fillna(test_data.weight.mean(), inplace = True)"
   ]
  },
  {
   "cell_type": "code",
   "execution_count": 37,
   "metadata": {},
   "outputs": [
    {
     "data": {
      "text/plain": [
       "prices.availability    0\n",
       "prices.condition       0\n",
       "prices.currency        0\n",
       "prices.isSale          0\n",
       "prices.merchant        0\n",
       "prices.shipping        0\n",
       "asins                  0\n",
       "brand                  0\n",
       "manufacturer           0\n",
       "primaryCategories      0\n",
       "weight                 0\n",
       "dtype: int64"
      ]
     },
     "execution_count": 37,
     "metadata": {},
     "output_type": "execute_result"
    }
   ],
   "source": [
    "test_data.isna().sum()"
   ]
  },
  {
   "cell_type": "code",
   "execution_count": 38,
   "metadata": {},
   "outputs": [
    {
     "name": "stderr",
     "output_type": "stream",
     "text": [
      "C:\\Users\\Harsha\\AppData\\Local\\Continuum\\anaconda3\\envs\\tensorflow_env\\lib\\site-packages\\sklearn\\utils\\deprecation.py:87: FutureWarning: Function get_feature_names is deprecated; get_feature_names is deprecated in 1.0 and will be removed in 1.2. Please use get_feature_names_out instead.\n",
      "  warnings.warn(msg, category=FutureWarning)\n"
     ]
    }
   ],
   "source": [
    "encoded = ohe.transform(test_data[col]).toarray()\n",
    "features = ohe.get_feature_names(col)\n",
    "\n",
    "\n",
    "test_data_ohe=pd.DataFrame(encoded,columns=features).astype(int)"
   ]
  },
  {
   "cell_type": "code",
   "execution_count": 39,
   "metadata": {},
   "outputs": [],
   "source": [
    "t_data = pd.concat([test_data_ohe, test_data], axis=1)\n",
    "t_data.drop(col, axis = 1, inplace=True)"
   ]
  },
  {
   "cell_type": "code",
   "execution_count": 40,
   "metadata": {},
   "outputs": [],
   "source": [
    "test_data=t_data"
   ]
  },
  {
   "cell_type": "code",
   "execution_count": 41,
   "metadata": {},
   "outputs": [
    {
     "data": {
      "text/plain": [
       "'features = ohe.get_feature_names(col)\\ntest_data[features] = ohe.transform(test_data[col]).toarray()\\ntest_data.drop(col, axis = 1, inplace = True)'"
      ]
     },
     "execution_count": 41,
     "metadata": {},
     "output_type": "execute_result"
    }
   ],
   "source": [
    "'''features = ohe.get_feature_names(col)\n",
    "test_data[features] = ohe.transform(test_data[col]).toarray()\n",
    "test_data.drop(col, axis = 1, inplace = True)'''\n",
    "\n"
   ]
  },
  {
   "cell_type": "code",
   "execution_count": 42,
   "metadata": {},
   "outputs": [],
   "source": [
    "test_data.replace([np.inf, -np.inf], np.nan, inplace=True)"
   ]
  },
  {
   "cell_type": "code",
   "execution_count": 43,
   "metadata": {},
   "outputs": [],
   "source": [
    "\n",
    "\n",
    "test_data.fillna(0, inplace=True)\n",
    "\n"
   ]
  },
  {
   "cell_type": "markdown",
   "metadata": {},
   "source": [
    "### Make Prediction on Test Dataset"
   ]
  },
  {
   "cell_type": "code",
   "execution_count": 44,
   "metadata": {},
   "outputs": [],
   "source": [
    "\n",
    "\n",
    "target = lr.predict(test_data)\n",
    "\n"
   ]
  },
  {
   "cell_type": "code",
   "execution_count": 45,
   "metadata": {},
   "outputs": [],
   "source": [
    "\n",
    "\n",
    "res = pd.DataFrame(target) #target is nothing but the final predictions of your model on input features of your new unseen test data\n",
    "res.index = test_data.index # its important for comparison. Here \"test_new\" is your new test dataset\n",
    "res.columns = [\"prediction\"]\n",
    "res.to_csv(\"Desktop\\\\submission.csv\")      # the csv file will be saved locally on the same location where this notebook is located.\n",
    "\n"
   ]
  },
  {
   "cell_type": "code",
   "execution_count": 46,
   "metadata": {},
   "outputs": [
    {
     "data": {
      "text/html": [
       "<div>\n",
       "<style scoped>\n",
       "    .dataframe tbody tr th:only-of-type {\n",
       "        vertical-align: middle;\n",
       "    }\n",
       "\n",
       "    .dataframe tbody tr th {\n",
       "        vertical-align: top;\n",
       "    }\n",
       "\n",
       "    .dataframe thead th {\n",
       "        text-align: right;\n",
       "    }\n",
       "</style>\n",
       "<table border=\"1\" class=\"dataframe\">\n",
       "  <thead>\n",
       "    <tr style=\"text-align: right;\">\n",
       "      <th></th>\n",
       "      <th>prediction</th>\n",
       "    </tr>\n",
       "  </thead>\n",
       "  <tbody>\n",
       "    <tr>\n",
       "      <th>0</th>\n",
       "      <td>8.371313e+01</td>\n",
       "    </tr>\n",
       "    <tr>\n",
       "      <th>1</th>\n",
       "      <td>2.287227e+02</td>\n",
       "    </tr>\n",
       "    <tr>\n",
       "      <th>2</th>\n",
       "      <td>-1.288087e+09</td>\n",
       "    </tr>\n",
       "    <tr>\n",
       "      <th>3</th>\n",
       "      <td>1.834368e+03</td>\n",
       "    </tr>\n",
       "    <tr>\n",
       "      <th>4</th>\n",
       "      <td>4.357656e+02</td>\n",
       "    </tr>\n",
       "    <tr>\n",
       "      <th>...</th>\n",
       "      <td>...</td>\n",
       "    </tr>\n",
       "    <tr>\n",
       "      <th>1661</th>\n",
       "      <td>1.624193e+03</td>\n",
       "    </tr>\n",
       "    <tr>\n",
       "      <th>1662</th>\n",
       "      <td>-6.545312e+09</td>\n",
       "    </tr>\n",
       "    <tr>\n",
       "      <th>1663</th>\n",
       "      <td>-7.981934e+00</td>\n",
       "    </tr>\n",
       "    <tr>\n",
       "      <th>1664</th>\n",
       "      <td>3.154294e+02</td>\n",
       "    </tr>\n",
       "    <tr>\n",
       "      <th>1665</th>\n",
       "      <td>2.192188e+02</td>\n",
       "    </tr>\n",
       "  </tbody>\n",
       "</table>\n",
       "<p>1666 rows × 1 columns</p>\n",
       "</div>"
      ],
      "text/plain": [
       "        prediction\n",
       "0     8.371313e+01\n",
       "1     2.287227e+02\n",
       "2    -1.288087e+09\n",
       "3     1.834368e+03\n",
       "4     4.357656e+02\n",
       "...            ...\n",
       "1661  1.624193e+03\n",
       "1662 -6.545312e+09\n",
       "1663 -7.981934e+00\n",
       "1664  3.154294e+02\n",
       "1665  2.192188e+02\n",
       "\n",
       "[1666 rows x 1 columns]"
      ]
     },
     "execution_count": 46,
     "metadata": {},
     "output_type": "execute_result"
    }
   ],
   "source": [
    "res"
   ]
  }
 ],
 "metadata": {
  "kernelspec": {
   "display_name": "Python 3",
   "language": "python",
   "name": "python3"
  },
  "language_info": {
   "codemirror_mode": {
    "name": "ipython",
    "version": 3
   },
   "file_extension": ".py",
   "mimetype": "text/x-python",
   "name": "python",
   "nbconvert_exporter": "python",
   "pygments_lexer": "ipython3",
   "version": "3.7.7"
  }
 },
 "nbformat": 4,
 "nbformat_minor": 2
}
